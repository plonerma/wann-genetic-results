{
 "cells": [
  {
   "cell_type": "code",
   "execution_count": 19,
   "metadata": {},
   "outputs": [],
   "source": [
    "from rewann.tools.compare_experiments import load_experiment_series, mean_comparison\n",
    "import os\n",
    "import numpy as np\n",
    "import seaborn as sns\n",
    "from matplotlib import pyplot as plt\n",
    "from scipy.stats import ttest_ind\n",
    "import pandas as pd"
   ]
  },
  {
   "cell_type": "code",
   "execution_count": 4,
   "metadata": {},
   "outputs": [],
   "source": [
    "df = load_experiment_series(\n",
    "    path=\"../data/iris_edge_signs\",\n",
    "    params_map={\n",
    "        'dist': ['sampling', 'distribution'],\n",
    "        'enabled': ['population', 'enable_edge_signs'],\n",
    "    },\n",
    ")"
   ]
  },
  {
   "cell_type": "code",
   "execution_count": 5,
   "metadata": {},
   "outputs": [
    {
     "data": {
      "image/png": "[encoded data removed]",
      "text/plain": [
       "<Figure size 432x288 with 1 Axes>"
      ]
     },
     "metadata": {
      "needs_background": "light"
     },
     "output_type": "display_data"
    }
   ],
   "source": [
    "sns.swarmplot(x=\"enabled\", y=\"mean accuracy\", data=df)\n",
    "plt.ylim([0,1])\n",
    "plt.show()"
   ]
  },
  {
   "cell_type": "code",
   "execution_count": 24,
   "metadata": {},
   "outputs": [
    {
     "data": {
      "text/html": [
       "<div>\n",
       "<style scoped>\n",
       "    .dataframe tbody tr th:only-of-type {\n",
       "        vertical-align: middle;\n",
       "    }\n",
       "\n",
       "    .dataframe tbody tr th {\n",
       "        vertical-align: top;\n",
       "    }\n",
       "\n",
       "    .dataframe thead th {\n",
       "        text-align: right;\n",
       "    }\n",
       "</style>\n",
       "<table border=\"1\" class=\"dataframe\">\n",
       "  <thead>\n",
       "    <tr style=\"text-align: right;\">\n",
       "      <th></th>\n",
       "      <th>enabled</th>\n",
       "      <th>not enabled</th>\n",
       "      <th>diff</th>\n",
       "    </tr>\n",
       "    <tr>\n",
       "      <th>exp</th>\n",
       "      <th></th>\n",
       "      <th></th>\n",
       "      <th></th>\n",
       "    </tr>\n",
       "  </thead>\n",
       "  <tbody>\n",
       "    <tr>\n",
       "      <th>uniform -2,2,0</th>\n",
       "      <td>0.680600</td>\n",
       "      <td>0.647067</td>\n",
       "      <td>0.033533</td>\n",
       "    </tr>\n",
       "    <tr>\n",
       "      <th>uniform -2,2,1</th>\n",
       "      <td>0.777533</td>\n",
       "      <td>0.727133</td>\n",
       "      <td>0.050400</td>\n",
       "    </tr>\n",
       "    <tr>\n",
       "      <th>uniform -2,2,2</th>\n",
       "      <td>0.694533</td>\n",
       "      <td>0.681000</td>\n",
       "      <td>0.013533</td>\n",
       "    </tr>\n",
       "    <tr>\n",
       "      <th>uniform -2,2,3</th>\n",
       "      <td>0.942733</td>\n",
       "      <td>0.631467</td>\n",
       "      <td>0.311267</td>\n",
       "    </tr>\n",
       "    <tr>\n",
       "      <th>uniform -2,2,4</th>\n",
       "      <td>0.726800</td>\n",
       "      <td>0.730067</td>\n",
       "      <td>-0.003267</td>\n",
       "    </tr>\n",
       "    <tr>\n",
       "      <th>uniform 1,5,0</th>\n",
       "      <td>0.954133</td>\n",
       "      <td>0.885467</td>\n",
       "      <td>0.068667</td>\n",
       "    </tr>\n",
       "    <tr>\n",
       "      <th>uniform 1,5,1</th>\n",
       "      <td>0.891600</td>\n",
       "      <td>0.902333</td>\n",
       "      <td>-0.010733</td>\n",
       "    </tr>\n",
       "    <tr>\n",
       "      <th>uniform 1,5,2</th>\n",
       "      <td>0.974667</td>\n",
       "      <td>0.909333</td>\n",
       "      <td>0.065333</td>\n",
       "    </tr>\n",
       "    <tr>\n",
       "      <th>uniform 1,5,3</th>\n",
       "      <td>0.824867</td>\n",
       "      <td>0.930267</td>\n",
       "      <td>-0.105400</td>\n",
       "    </tr>\n",
       "    <tr>\n",
       "      <th>uniform 1,5,4</th>\n",
       "      <td>0.934000</td>\n",
       "      <td>0.944533</td>\n",
       "      <td>-0.010533</td>\n",
       "    </tr>\n",
       "    <tr>\n",
       "      <th>lognormal 0,0.5,0</th>\n",
       "      <td>0.931867</td>\n",
       "      <td>0.910800</td>\n",
       "      <td>0.021067</td>\n",
       "    </tr>\n",
       "    <tr>\n",
       "      <th>lognormal 0,0.5,1</th>\n",
       "      <td>0.966667</td>\n",
       "      <td>0.934000</td>\n",
       "      <td>0.032667</td>\n",
       "    </tr>\n",
       "    <tr>\n",
       "      <th>lognormal 0,0.5,2</th>\n",
       "      <td>0.966600</td>\n",
       "      <td>0.895533</td>\n",
       "      <td>0.071067</td>\n",
       "    </tr>\n",
       "    <tr>\n",
       "      <th>lognormal 0,0.5,3</th>\n",
       "      <td>0.892267</td>\n",
       "      <td>0.916000</td>\n",
       "      <td>-0.023733</td>\n",
       "    </tr>\n",
       "    <tr>\n",
       "      <th>lognormal 0,0.5,4</th>\n",
       "      <td>0.972733</td>\n",
       "      <td>0.916533</td>\n",
       "      <td>0.056200</td>\n",
       "    </tr>\n",
       "  </tbody>\n",
       "</table>\n",
       "</div>"
      ],
      "text/plain": [
       "                    enabled  not enabled      diff\n",
       "exp                                               \n",
       "uniform -2,2,0     0.680600     0.647067  0.033533\n",
       "uniform -2,2,1     0.777533     0.727133  0.050400\n",
       "uniform -2,2,2     0.694533     0.681000  0.013533\n",
       "uniform -2,2,3     0.942733     0.631467  0.311267\n",
       "uniform -2,2,4     0.726800     0.730067 -0.003267\n",
       "uniform 1,5,0      0.954133     0.885467  0.068667\n",
       "uniform 1,5,1      0.891600     0.902333 -0.010733\n",
       "uniform 1,5,2      0.974667     0.909333  0.065333\n",
       "uniform 1,5,3      0.824867     0.930267 -0.105400\n",
       "uniform 1,5,4      0.934000     0.944533 -0.010533\n",
       "lognormal 0,0.5,0  0.931867     0.910800  0.021067\n",
       "lognormal 0,0.5,1  0.966667     0.934000  0.032667\n",
       "lognormal 0,0.5,2  0.966600     0.895533  0.071067\n",
       "lognormal 0,0.5,3  0.892267     0.916000 -0.023733\n",
       "lognormal 0,0.5,4  0.972733     0.916533  0.056200"
      ]
     },
     "execution_count": 24,
     "metadata": {},
     "output_type": "execute_result"
    }
   ],
   "source": [
    "df['exp'] = df.agg('{0[distribution]},{0[seed]}'.format, axis=1)\n",
    "df.index = df['exp']\n",
    "a = df[df['enabled']]['mean accuracy']\n",
    "b = df[~df['enabled']]['mean accuracy']\n",
    "pd.DataFrame({'enabled': a, 'not enabled': b, 'diff': a-b})"
   ]
  }
 ],
 "metadata": {
  "kernelspec": {
   "display_name": "Python 3",
   "language": "python",
   "name": "python3"
  },
  "language_info": {
   "codemirror_mode": {
    "name": "ipython",
    "version": 3
   },
   "file_extension": ".py",
   "mimetype": "text/x-python",
   "name": "python",
   "nbconvert_exporter": "python",
   "pygments_lexer": "ipython3",
   "version": "3.8.0"
  }
 },
 "nbformat": 4,
 "nbformat_minor": 4
}
